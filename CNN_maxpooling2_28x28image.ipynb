{
 "cells": [
  {
   "cell_type": "markdown",
   "id": "612e0ce8",
   "metadata": {
    "heading_collapsed": true,
    "id": "612e0ce8"
   },
   "source": [
    "# Imports"
   ]
  },
  {
   "cell_type": "code",
   "execution_count": 1,
   "id": "2eb5b345",
   "metadata": {
    "ExecuteTime": {
     "end_time": "2023-02-01T10:36:19.728291Z",
     "start_time": "2023-02-01T10:36:18.557154Z"
    },
    "executionInfo": {
     "elapsed": 2544,
     "status": "ok",
     "timestamp": 1675244592525,
     "user": {
      "displayName": "Amar Jaganjac",
      "userId": "08276925600710267983"
     },
     "user_tz": -60
    },
    "hidden": true,
    "id": "2eb5b345"
   },
   "outputs": [],
   "source": [
    "import numpy as np\n",
    "import pandas as pd\n",
    "from numpy import mean\n",
    "from numpy import std\n",
    "\n",
    "from sklearn.preprocessing import MinMaxScaler\n",
    "from sklearn.model_selection import train_test_split\n",
    "\n",
    "import tensorflow as tf\n",
    "from tensorflow.keras.layers import Dense, Input, Dropout, LSTM, GRU, Flatten, Conv2D, Conv1D, MaxPooling2D, MaxPooling1D\n",
    "from keras import Model, layers\n",
    "from tensorflow.keras import activations,regularizers\n",
    "from keras.utils import to_categorical\n",
    "from keras.models import Sequential\n",
    "from keras.utils import plot_model\n",
    "\n",
    "from keras.optimizers import SGD\n",
    "from keras.regularizers import l2\n",
    "\n",
    "import matplotlib.pyplot as plt\n",
    "\n",
    "\n"
   ]
  },
  {
   "cell_type": "code",
   "execution_count": 2,
   "id": "8542352b",
   "metadata": {
    "colab": {
     "base_uri": "https://localhost:8080/"
    },
    "executionInfo": {
     "elapsed": 2609,
     "status": "ok",
     "timestamp": 1675244595131,
     "user": {
      "displayName": "Amar Jaganjac",
      "userId": "08276925600710267983"
     },
     "user_tz": -60
    },
    "hidden": true,
    "id": "8542352b",
    "outputId": "42da5522-6c91-4526-bab8-e680157c19a2"
   },
   "outputs": [
    {
     "name": "stdout",
     "output_type": "stream",
     "text": [
      "Drive already mounted at /content/drive; to attempt to forcibly remount, call drive.mount(\"/content/drive\", force_remount=True).\n"
     ]
    }
   ],
   "source": [
    "from google.colab import drive\n",
    "drive.mount('/content/drive')"
   ]
  },
  {
   "cell_type": "markdown",
   "id": "25d9ed32",
   "metadata": {
    "heading_collapsed": true,
    "id": "25d9ed32"
   },
   "source": [
    "# Load data"
   ]
  },
  {
   "cell_type": "code",
   "execution_count": 31,
   "id": "1946df10",
   "metadata": {
    "executionInfo": {
     "elapsed": 2,
     "status": "ok",
     "timestamp": 1675247002148,
     "user": {
      "displayName": "Amar Jaganjac",
      "userId": "08276925600710267983"
     },
     "user_tz": -60
    },
    "hidden": true,
    "id": "1946df10"
   },
   "outputs": [],
   "source": [
    "X=  np.load('/content/drive/MyDrive/Colab Notebooks/train_images.npy', allow_pickle=True)\n",
    "y =  np.load('/content/drive/MyDrive/Colab Notebooks/train_labels.npy', allow_pickle=True)\n",
    "val_images=np.load('/content/drive/MyDrive/Colab Notebooks/val_images.npy',allow_pickle=True)"
   ]
  },
  {
   "cell_type": "code",
   "execution_count": 32,
   "id": "054cb2bc",
   "metadata": {
    "executionInfo": {
     "elapsed": 2,
     "status": "ok",
     "timestamp": 1675247004227,
     "user": {
      "displayName": "Amar Jaganjac",
      "userId": "08276925600710267983"
     },
     "user_tz": -60
    },
    "hidden": true,
    "id": "054cb2bc"
   },
   "outputs": [],
   "source": [
    "class_names = ['T-shirt/top', 'Trouser', 'Pullover', 'Dress', 'Coat',\n",
    "               'Sandal', 'Shirt', 'Sneaker', 'Bag', 'Ankle boot']"
   ]
  },
  {
   "cell_type": "markdown",
   "id": "ddb657ba",
   "metadata": {
    "heading_collapsed": true,
    "id": "ddb657ba"
   },
   "source": [
    "# dataprep"
   ]
  },
  {
   "cell_type": "code",
   "execution_count": 33,
   "id": "fa4aa1fc",
   "metadata": {
    "executionInfo": {
     "elapsed": 2,
     "status": "ok",
     "timestamp": 1675247005792,
     "user": {
      "displayName": "Amar Jaganjac",
      "userId": "08276925600710267983"
     },
     "user_tz": -60
    },
    "hidden": true,
    "id": "fa4aa1fc"
   },
   "outputs": [],
   "source": [
    "X = X/255\n"
   ]
  },
  {
   "cell_type": "code",
   "execution_count": 20,
   "id": "LyqFgF7_dVLD",
   "metadata": {
    "executionInfo": {
     "elapsed": 251,
     "status": "ok",
     "timestamp": 1675246266090,
     "user": {
      "displayName": "Amar Jaganjac",
      "userId": "08276925600710267983"
     },
     "user_tz": -60
    },
    "hidden": true,
    "id": "LyqFgF7_dVLD"
   },
   "outputs": [],
   "source": [
    "X=X.reshape(-1,28,28)"
   ]
  },
  {
   "cell_type": "code",
   "execution_count": 34,
   "id": "sajg-fPldb-u",
   "metadata": {
    "executionInfo": {
     "elapsed": 416,
     "status": "ok",
     "timestamp": 1675247008275,
     "user": {
      "displayName": "Amar Jaganjac",
      "userId": "08276925600710267983"
     },
     "user_tz": -60
    },
    "hidden": true,
    "id": "sajg-fPldb-u"
   },
   "outputs": [],
   "source": [
    "y=y.reshape(-1,1)"
   ]
  },
  {
   "cell_type": "code",
   "execution_count": 7,
   "id": "a7137558",
   "metadata": {
    "executionInfo": {
     "elapsed": 3,
     "status": "ok",
     "timestamp": 1675244599902,
     "user": {
      "displayName": "Amar Jaganjac",
      "userId": "08276925600710267983"
     },
     "user_tz": -60
    },
    "hidden": true,
    "id": "a7137558"
   },
   "outputs": [],
   "source": [
    "\n",
    "ohe=OneHotEncoder(sparse=False)\n",
    "ohe.fit(y)\n",
    "y_ohe=ohe.transform(y)"
   ]
  },
  {
   "cell_type": "code",
   "execution_count": 35,
   "id": "9008d18a",
   "metadata": {
    "executionInfo": {
     "elapsed": 1009,
     "status": "ok",
     "timestamp": 1675247011283,
     "user": {
      "displayName": "Amar Jaganjac",
      "userId": "08276925600710267983"
     },
     "user_tz": -60
    },
    "hidden": true,
    "id": "9008d18a"
   },
   "outputs": [],
   "source": [
    "X_train, X_test, y_train, y_test=train_test_split(X, y_ohe, test_size=0.2, random_state=420)"
   ]
  },
  {
   "cell_type": "code",
   "execution_count": 9,
   "id": "cceb4292",
   "metadata": {
    "colab": {
     "base_uri": "https://localhost:8080/"
    },
    "executionInfo": {
     "elapsed": 3,
     "status": "ok",
     "timestamp": 1675244601509,
     "user": {
      "displayName": "Amar Jaganjac",
      "userId": "08276925600710267983"
     },
     "user_tz": -60
    },
    "hidden": true,
    "id": "cceb4292",
    "outputId": "22a450bf-efae-4ef2-8263-f56864803e6c"
   },
   "outputs": [
    {
     "name": "stdout",
     "output_type": "stream",
     "text": [
      "(68000, 28, 28)\n",
      "(68000, 1)\n"
     ]
    }
   ],
   "source": [
    "print(X.shape)\n",
    "print(y.shape)"
   ]
  },
  {
   "cell_type": "markdown",
   "id": "7P0ZZaQE-Hrq",
   "metadata": {
    "heading_collapsed": true,
    "id": "7P0ZZaQE-Hrq"
   },
   "source": [
    "# 93% CNN"
   ]
  },
  {
   "cell_type": "code",
   "execution_count": 10,
   "id": "61c626fc",
   "metadata": {
    "executionInfo": {
     "elapsed": 2365,
     "status": "ok",
     "timestamp": 1675244608065,
     "user": {
      "displayName": "Amar Jaganjac",
      "userId": "08276925600710267983"
     },
     "user_tz": -60
    },
    "hidden": true,
    "id": "61c626fc"
   },
   "outputs": [],
   "source": [
    "model = Sequential()\n",
    "\n",
    "\n",
    "model.add(Conv2D(32, kernel_size=(4, 4),activation='relu',kernel_initializer='he_normal',input_shape=(28, 28,1)))\n",
    "model.add(Dropout(0.1))\n",
    "\n",
    "model.add(Conv2D(64, kernel_size=(3, 3),padding=\"same\", activation='relu'))\n",
    "model.add(MaxPooling2D(pool_size=(2, 2)))\n",
    "model.add(Dropout(0.1))\n",
    "\n",
    "model.add(Conv2D(128, kernel_size=(3, 3),padding=\"same\", activation='relu'))\n",
    "model.add(Dropout(0.1))\n",
    "\n",
    "model.add(Conv2D(64, kernel_size=(3, 3), padding=\"same\",activation='relu'))\n",
    "model.add(MaxPooling2D(pool_size=(2,2)))\n",
    "\n",
    "model.add(Conv2D(32, kernel_size=(2, 2),padding=\"same\", activation='relu'))\n",
    "model.add(MaxPooling2D(pool_size=(2,2)))\n",
    "model.add(Dropout(0.1))\n",
    "\n",
    "model.add(Flatten())\n",
    "\n",
    "model.add(Dense(10, activation='softmax'))"
   ]
  },
  {
   "cell_type": "markdown",
   "id": "ow5FgaRu-OgZ",
   "metadata": {
    "heading_collapsed": true,
    "id": "ow5FgaRu-OgZ"
   },
   "source": [
    "# compile"
   ]
  },
  {
   "cell_type": "code",
   "execution_count": null,
   "id": "60a48129",
   "metadata": {
    "colab": {
     "base_uri": "https://localhost:8080/"
    },
    "executionInfo": {
     "elapsed": 8,
     "status": "ok",
     "timestamp": 1675205375915,
     "user": {
      "displayName": "Amar Jaganjac",
      "userId": "08276925600710267983"
     },
     "user_tz": -60
    },
    "hidden": true,
    "id": "60a48129",
    "outputId": "3fcc24b0-e3ea-452a-debd-c139a5bd9446"
   },
   "outputs": [
    {
     "name": "stdout",
     "output_type": "stream",
     "text": [
      "Model: \"sequential_24\"\n",
      "_________________________________________________________________\n",
      " Layer (type)                Output Shape              Param #   \n",
      "=================================================================\n",
      " conv2d_121 (Conv2D)         (None, 25, 25, 32)        544       \n",
      "                                                                 \n",
      " dropout_89 (Dropout)        (None, 25, 25, 32)        0         \n",
      "                                                                 \n",
      " conv2d_122 (Conv2D)         (None, 25, 25, 64)        18496     \n",
      "                                                                 \n",
      " max_pooling2d_50 (MaxPoolin  (None, 12, 12, 64)       0         \n",
      " g2D)                                                            \n",
      "                                                                 \n",
      " dropout_90 (Dropout)        (None, 12, 12, 64)        0         \n",
      "                                                                 \n",
      " conv2d_123 (Conv2D)         (None, 12, 12, 128)       73856     \n",
      "                                                                 \n",
      " dropout_91 (Dropout)        (None, 12, 12, 128)       0         \n",
      "                                                                 \n",
      " conv2d_124 (Conv2D)         (None, 12, 12, 64)        73792     \n",
      "                                                                 \n",
      " max_pooling2d_51 (MaxPoolin  (None, 6, 6, 64)         0         \n",
      " g2D)                                                            \n",
      "                                                                 \n",
      " dropout_92 (Dropout)        (None, 6, 6, 64)          0         \n",
      "                                                                 \n",
      " conv2d_125 (Conv2D)         (None, 6, 6, 32)          8224      \n",
      "                                                                 \n",
      " max_pooling2d_52 (MaxPoolin  (None, 3, 3, 32)         0         \n",
      " g2D)                                                            \n",
      "                                                                 \n",
      " dropout_93 (Dropout)        (None, 3, 3, 32)          0         \n",
      "                                                                 \n",
      " flatten_9 (Flatten)         (None, 288)               0         \n",
      "                                                                 \n",
      " dense_15 (Dense)            (None, 10)                2890      \n",
      "                                                                 \n",
      "=================================================================\n",
      "Total params: 177,802\n",
      "Trainable params: 177,802\n",
      "Non-trainable params: 0\n",
      "_________________________________________________________________\n"
     ]
    }
   ],
   "source": [
    "model.compile(optimizer='adam',\n",
    "              loss='categorical_crossentropy',\n",
    "              metrics=['accuracy'])\n",
    "\n",
    "model.summary()"
   ]
  },
  {
   "cell_type": "markdown",
   "id": "281f6ccf",
   "metadata": {
    "heading_collapsed": true
   },
   "source": [
    "# Plot model"
   ]
  },
  {
   "cell_type": "code",
   "execution_count": null,
   "id": "XsEySXpl-USI",
   "metadata": {
    "colab": {
     "base_uri": "https://localhost:8080/",
     "height": 1000
    },
    "executionInfo": {
     "elapsed": 527,
     "status": "ok",
     "timestamp": 1675205377406,
     "user": {
      "displayName": "Amar Jaganjac",
      "userId": "08276925600710267983"
     },
     "user_tz": -60
    },
    "hidden": true,
    "id": "XsEySXpl-USI",
    "outputId": "4f45ee49-ebfb-4274-a32a-d97ace3da2cd"
   },
   "outputs": [
    {
     "data": {
      "image/png": "[encoded data removed]",
      "text/plain": [
       "<IPython.core.display.Image object>"
      ]
     },
     "execution_count": 95,
     "metadata": {},
     "output_type": "execute_result"
    }
   ],
   "source": [
    "plot_model(model, to_file='model.png')"
   ]
  },
  {
   "cell_type": "markdown",
   "id": "ced12cff",
   "metadata": {
    "heading_collapsed": true
   },
   "source": [
    "# History"
   ]
  },
  {
   "cell_type": "code",
   "execution_count": null,
   "id": "532866db",
   "metadata": {
    "colab": {
     "base_uri": "https://localhost:8080/"
    },
    "executionInfo": {
     "elapsed": 202788,
     "status": "ok",
     "timestamp": 1675205580705,
     "user": {
      "displayName": "Amar Jaganjac",
      "userId": "08276925600710267983"
     },
     "user_tz": -60
    },
    "hidden": true,
    "id": "532866db",
    "outputId": "06423a5a-997e-4bb1-d736-d690ab6071ae"
   },
   "outputs": [
    {
     "name": "stdout",
     "output_type": "stream",
     "text": [
      "Epoch 1/30\n",
      "425/425 [==============================] - 7s 15ms/step - loss: 0.6755 - accuracy: 0.7547 - val_loss: 0.4117 - val_accuracy: 0.8553\n",
      "Epoch 2/30\n",
      "425/425 [==============================] - 6s 14ms/step - loss: 0.4010 - accuracy: 0.8524 - val_loss: 0.3392 - val_accuracy: 0.8763\n",
      "Epoch 3/30\n",
      "425/425 [==============================] - 6s 14ms/step - loss: 0.3382 - accuracy: 0.8769 - val_loss: 0.2892 - val_accuracy: 0.8943\n",
      "Epoch 4/30\n",
      "425/425 [==============================] - 6s 14ms/step - loss: 0.3025 - accuracy: 0.8898 - val_loss: 0.2644 - val_accuracy: 0.9040\n",
      "Epoch 5/30\n",
      "425/425 [==============================] - 6s 15ms/step - loss: 0.2790 - accuracy: 0.8980 - val_loss: 0.2438 - val_accuracy: 0.9101\n",
      "Epoch 6/30\n",
      "425/425 [==============================] - 6s 15ms/step - loss: 0.2572 - accuracy: 0.9062 - val_loss: 0.2435 - val_accuracy: 0.9118\n",
      "Epoch 7/30\n",
      "425/425 [==============================] - 6s 14ms/step - loss: 0.2469 - accuracy: 0.9099 - val_loss: 0.2300 - val_accuracy: 0.9168\n",
      "Epoch 8/30\n",
      "425/425 [==============================] - 6s 14ms/step - loss: 0.2325 - accuracy: 0.9142 - val_loss: 0.2105 - val_accuracy: 0.9226\n",
      "Epoch 9/30\n",
      "425/425 [==============================] - 6s 15ms/step - loss: 0.2218 - accuracy: 0.9190 - val_loss: 0.2109 - val_accuracy: 0.9240\n",
      "Epoch 10/30\n",
      "425/425 [==============================] - 6s 14ms/step - loss: 0.2157 - accuracy: 0.9216 - val_loss: 0.2134 - val_accuracy: 0.9237\n",
      "Epoch 11/30\n",
      "425/425 [==============================] - 6s 14ms/step - loss: 0.2086 - accuracy: 0.9229 - val_loss: 0.2126 - val_accuracy: 0.9225\n",
      "Epoch 12/30\n",
      "425/425 [==============================] - 6s 14ms/step - loss: 0.1991 - accuracy: 0.9266 - val_loss: 0.2046 - val_accuracy: 0.9272\n",
      "Epoch 13/30\n",
      "425/425 [==============================] - 7s 16ms/step - loss: 0.1927 - accuracy: 0.9289 - val_loss: 0.2017 - val_accuracy: 0.9264\n",
      "Epoch 14/30\n",
      "425/425 [==============================] - 6s 15ms/step - loss: 0.1864 - accuracy: 0.9319 - val_loss: 0.2027 - val_accuracy: 0.9257\n",
      "Epoch 15/30\n",
      "425/425 [==============================] - 6s 14ms/step - loss: 0.1780 - accuracy: 0.9344 - val_loss: 0.1995 - val_accuracy: 0.9273\n",
      "Epoch 16/30\n",
      "425/425 [==============================] - 6s 14ms/step - loss: 0.1746 - accuracy: 0.9358 - val_loss: 0.2034 - val_accuracy: 0.9258\n",
      "Epoch 17/30\n",
      "425/425 [==============================] - 6s 15ms/step - loss: 0.1701 - accuracy: 0.9366 - val_loss: 0.1983 - val_accuracy: 0.9298\n",
      "Epoch 18/30\n",
      "425/425 [==============================] - 6s 15ms/step - loss: 0.1627 - accuracy: 0.9394 - val_loss: 0.1962 - val_accuracy: 0.9294\n",
      "Epoch 19/30\n",
      "425/425 [==============================] - 6s 15ms/step - loss: 0.1594 - accuracy: 0.9407 - val_loss: 0.1999 - val_accuracy: 0.9268\n",
      "Epoch 20/30\n",
      "425/425 [==============================] - 6s 14ms/step - loss: 0.1548 - accuracy: 0.9418 - val_loss: 0.1938 - val_accuracy: 0.9295\n",
      "Epoch 21/30\n",
      "425/425 [==============================] - 6s 15ms/step - loss: 0.1523 - accuracy: 0.9436 - val_loss: 0.2023 - val_accuracy: 0.9268\n",
      "Epoch 22/30\n",
      "425/425 [==============================] - 6s 14ms/step - loss: 0.1468 - accuracy: 0.9453 - val_loss: 0.1929 - val_accuracy: 0.9307\n",
      "Epoch 23/30\n",
      "425/425 [==============================] - 6s 14ms/step - loss: 0.1405 - accuracy: 0.9475 - val_loss: 0.1987 - val_accuracy: 0.9280\n",
      "Epoch 24/30\n",
      "425/425 [==============================] - 6s 14ms/step - loss: 0.1395 - accuracy: 0.9469 - val_loss: 0.1958 - val_accuracy: 0.9297\n",
      "Epoch 25/30\n",
      "425/425 [==============================] - 6s 14ms/step - loss: 0.1332 - accuracy: 0.9505 - val_loss: 0.1946 - val_accuracy: 0.9291\n",
      "Epoch 26/30\n",
      "425/425 [==============================] - 6s 14ms/step - loss: 0.1330 - accuracy: 0.9507 - val_loss: 0.1980 - val_accuracy: 0.9285\n",
      "Epoch 27/30\n",
      "425/425 [==============================] - 6s 14ms/step - loss: 0.1312 - accuracy: 0.9508 - val_loss: 0.1965 - val_accuracy: 0.9297\n",
      "Epoch 28/30\n",
      "425/425 [==============================] - 6s 14ms/step - loss: 0.1259 - accuracy: 0.9527 - val_loss: 0.1983 - val_accuracy: 0.9301\n",
      "Epoch 29/30\n",
      "425/425 [==============================] - 6s 14ms/step - loss: 0.1257 - accuracy: 0.9530 - val_loss: 0.2039 - val_accuracy: 0.9279\n",
      "Epoch 30/30\n",
      "425/425 [==============================] - 6s 14ms/step - loss: 0.1234 - accuracy: 0.9527 - val_loss: 0.2027 - val_accuracy: 0.9306\n"
     ]
    }
   ],
   "source": [
    "history=model.fit(X_train, y_train, validation_data=[X_test,y_test],batch_size=128, epochs=30)"
   ]
  },
  {
   "cell_type": "markdown",
   "id": "8ace6eca",
   "metadata": {
    "heading_collapsed": true
   },
   "source": [
    "# Plot acc"
   ]
  },
  {
   "cell_type": "code",
   "execution_count": null,
   "id": "R9WYxVCzMrtO",
   "metadata": {
    "colab": {
     "base_uri": "https://localhost:8080/",
     "height": 285
    },
    "executionInfo": {
     "elapsed": 16,
     "status": "ok",
     "timestamp": 1675205580706,
     "user": {
      "displayName": "Amar Jaganjac",
      "userId": "08276925600710267983"
     },
     "user_tz": -60
    },
    "hidden": true,
    "id": "R9WYxVCzMrtO",
    "outputId": "373ad711-cfdc-4caa-83c7-b39208330d6a"
   },
   "outputs": [
    {
     "data": {
      "text/plain": [
       "[<matplotlib.lines.Line2D at 0x7f4f8c07a370>]"
      ]
     },
     "execution_count": 97,
     "metadata": {},
     "output_type": "execute_result"
    },
    {
     "data": {
      "image/png": "[encoded data removed]",
      "text/plain": [
       "<Figure size 432x288 with 1 Axes>"
      ]
     },
     "metadata": {
      "needs_background": "light"
     },
     "output_type": "display_data"
    }
   ],
   "source": [
    "plt.plot(history.history['loss'])\n",
    "plt.plot(history.history['val_loss'])"
   ]
  },
  {
   "cell_type": "code",
   "execution_count": null,
   "id": "gtA-hbGdM187",
   "metadata": {
    "colab": {
     "base_uri": "https://localhost:8080/",
     "height": 282
    },
    "executionInfo": {
     "elapsed": 571,
     "status": "ok",
     "timestamp": 1675205581269,
     "user": {
      "displayName": "Amar Jaganjac",
      "userId": "08276925600710267983"
     },
     "user_tz": -60
    },
    "hidden": true,
    "id": "gtA-hbGdM187",
    "outputId": "c3098364-50fe-43da-dd9c-fa78072b7532"
   },
   "outputs": [
    {
     "data": {
      "text/plain": [
       "[<matplotlib.lines.Line2D at 0x7f4fc406c0d0>]"
      ]
     },
     "execution_count": 98,
     "metadata": {},
     "output_type": "execute_result"
    },
    {
     "data": {
      "image/png": "[encoded data removed]",
      "text/plain": [
       "<Figure size 432x288 with 1 Axes>"
      ]
     },
     "metadata": {
      "needs_background": "light"
     },
     "output_type": "display_data"
    }
   ],
   "source": [
    "plt.plot(history.history['accuracy'])\n",
    "plt.plot(history.history['val_accuracy'])"
   ]
  },
  {
   "cell_type": "code",
   "execution_count": null,
   "id": "paLTrYU1RVHI",
   "metadata": {
    "colab": {
     "base_uri": "https://localhost:8080/"
    },
    "executionInfo": {
     "elapsed": 2490,
     "status": "ok",
     "timestamp": 1675205583751,
     "user": {
      "displayName": "Amar Jaganjac",
      "userId": "08276925600710267983"
     },
     "user_tz": -60
    },
    "hidden": true,
    "id": "paLTrYU1RVHI",
    "outputId": "0f23fefb-9279-4ee7-adbe-d81221f17a57"
   },
   "outputs": [
    {
     "name": "stdout",
     "output_type": "stream",
     "text": [
      "Test loss: 0.20265522599220276\n",
      "Test accuracy: 0.9305882453918457\n"
     ]
    }
   ],
   "source": [
    "score = model.evaluate(X_test, y_test, verbose=0)\n",
    "print('Test loss:', score[0])\n",
    "print('Test accuracy:', score[1])"
   ]
  },
  {
   "cell_type": "markdown",
   "id": "b51b1d5f",
   "metadata": {
    "heading_collapsed": true
   },
   "source": [
    "# Save"
   ]
  },
  {
   "cell_type": "code",
   "execution_count": null,
   "id": "DVbRzVGo3i7P",
   "metadata": {
    "colab": {
     "base_uri": "https://localhost:8080/"
    },
    "executionInfo": {
     "elapsed": 809,
     "status": "ok",
     "timestamp": 1675204633425,
     "user": {
      "displayName": "Amar Jaganjac",
      "userId": "08276925600710267983"
     },
     "user_tz": -60
    },
    "hidden": true,
    "id": "DVbRzVGo3i7P",
    "outputId": "e585150c-e864-41b2-85a2-da2d91f4165c"
   },
   "outputs": [
    {
     "name": "stdout",
     "output_type": "stream",
     "text": [
      "63/63 [==============================] - 0s 4ms/step\n"
     ]
    }
   ],
   "source": [
    "X_val = val_images\n",
    "X_val = X_val/255\n",
    "X_val = X_val.reshape(-1,28,28,1)\n",
    "y_val_pred = model.predict(X_val)\n",
    "np.round(y_val_pred[0,:],2)\n",
    "y_val_pred_class = np.argmax(y_val_pred, axis=1)"
   ]
  },
  {
   "cell_type": "code",
   "execution_count": null,
   "id": "NaI90y6qkkPL",
   "metadata": {
    "hidden": true,
    "id": "NaI90y6qkkPL"
   },
   "outputs": [],
   "source": [
    "probability_model = tf.keras.Sequential([model, \n",
    "                                         tf.keras.layers.Softmax()])"
   ]
  },
  {
   "cell_type": "code",
   "execution_count": null,
   "id": "eQtwRBZPXNhq",
   "metadata": {
    "colab": {
     "base_uri": "https://localhost:8080/"
    },
    "executionInfo": {
     "elapsed": 429,
     "status": "ok",
     "timestamp": 1675204647265,
     "user": {
      "displayName": "Amar Jaganjac",
      "userId": "08276925600710267983"
     },
     "user_tz": -60
    },
    "hidden": true,
    "id": "eQtwRBZPXNhq",
    "outputId": "38ac7746-7128-479c-d583-55b36bdfad3a"
   },
   "outputs": [
    {
     "name": "stdout",
     "output_type": "stream",
     "text": [
      "63/63 [==============================] - 0s 2ms/step\n"
     ]
    }
   ],
   "source": [
    "predictions = probability_model.predict(X_val)"
   ]
  },
  {
   "cell_type": "code",
   "execution_count": null,
   "id": "FTcQFx_wQwQk",
   "metadata": {
    "hidden": true,
    "id": "FTcQFx_wQwQk"
   },
   "outputs": [],
   "source": [
    "predictions=np.argmax(predictions,axis=1)"
   ]
  },
  {
   "cell_type": "code",
   "execution_count": null,
   "id": "5bOFAsRuqesm",
   "metadata": {
    "colab": {
     "base_uri": "https://localhost:8080/"
    },
    "executionInfo": {
     "elapsed": 5,
     "status": "ok",
     "timestamp": 1675201529573,
     "user": {
      "displayName": "Amar Jaganjac",
      "userId": "08276925600710267983"
     },
     "user_tz": -60
    },
    "hidden": true,
    "id": "5bOFAsRuqesm",
    "outputId": "b11b07ff-9277-4bc0-8fff-ab47f72a3887"
   },
   "outputs": [
    {
     "data": {
      "text/plain": [
       "2000"
      ]
     },
     "execution_count": 21,
     "metadata": {},
     "output_type": "execute_result"
    }
   ],
   "source": [
    "len(predictions)"
   ]
  },
  {
   "cell_type": "code",
   "execution_count": null,
   "id": "adf7a337",
   "metadata": {
    "hidden": true,
    "id": "adf7a337"
   },
   "outputs": [],
   "source": [
    "my_name = r'elanoris'\n",
    "np.save(f'/content/drive/MyDrive/{my_name}_predictions.npy', predictions)"
   ]
  }
 ],
 "metadata": {
  "accelerator": "GPU",
  "colab": {
   "provenance": []
  },
  "gpuClass": "standard",
  "kernelspec": {
   "display_name": "Python 3 (ipykernel)",
   "language": "python",
   "name": "python3"
  },
  "language_info": {
   "codemirror_mode": {
    "name": "ipython",
    "version": 3
   },
   "file_extension": ".py",
   "mimetype": "text/x-python",
   "name": "python",
   "nbconvert_exporter": "python",
   "pygments_lexer": "ipython3",
   "version": "3.9.12"
  },
  "nbTranslate": {
   "displayLangs": [
    "*"
   ],
   "hotkey": "alt-t",
   "langInMainMenu": true,
   "sourceLang": "en",
   "targetLang": "fr",
   "useGoogleTranslate": true
  },
  "toc": {
   "base_numbering": 1,
   "nav_menu": {},
   "number_sections": true,
   "sideBar": true,
   "skip_h1_title": false,
   "title_cell": "Table of Contents",
   "title_sidebar": "Contents",
   "toc_cell": false,
   "toc_position": {},
   "toc_section_display": true,
   "toc_window_display": false
  },
  "varInspector": {
   "cols": {
    "lenName": 16,
    "lenType": 16,
    "lenVar": 40
   },
   "kernels_config": {
    "python": {
     "delete_cmd_postfix": "",
     "delete_cmd_prefix": "del ",
     "library": "var_list.py",
     "varRefreshCmd": "print(var_dic_list())"
    },
    "r": {
     "delete_cmd_postfix": ") ",
     "delete_cmd_prefix": "rm(",
     "library": "var_list.r",
     "varRefreshCmd": "cat(var_dic_list()) "
    }
   },
   "types_to_exclude": [
    "module",
    "function",
    "builtin_function_or_method",
    "instance",
    "_Feature"
   ],
   "window_display": false
  }
 },
 "nbformat": 4,
 "nbformat_minor": 5
}
